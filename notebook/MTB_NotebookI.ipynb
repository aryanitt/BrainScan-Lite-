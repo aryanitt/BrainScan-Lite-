{
 "cells": [
  {
   "cell_type": "code",
   "execution_count": 174,
   "id": "66977614-c534-49ed-b8a4-e7b57f9192bc",
   "metadata": {},
   "outputs": [],
   "source": [
    "import numpy as np\n",
    "import pandas as pd\n",
    "import seaborn as sns\n",
    "import matplotlib.pyplot as plt\n",
    "%matplotlib inline\n",
    "import warnings\n",
    "warnings.filterwarnings('ignore')"
   ]
  },
  {
   "cell_type": "code",
   "execution_count": 175,
   "id": "069989e9-317c-477b-a2e0-77594aaee211",
   "metadata": {},
   "outputs": [],
   "source": [
    "df = pd.read_csv('realistic_mbti_dataset.csv')"
   ]
  },
  {
   "cell_type": "code",
   "execution_count": 204,
   "id": "b13a5043-7d48-48a0-8868-48a8e378ca9c",
   "metadata": {},
   "outputs": [
    {
     "data": {
      "text/plain": [
       "(1000, 11)"
      ]
     },
     "execution_count": 204,
     "metadata": {},
     "output_type": "execute_result"
    }
   ],
   "source": [
    "df.shape\n"
   ]
  },
  {
   "cell_type": "code",
   "execution_count": 177,
   "id": "98f33eb5-fb72-4067-9dd7-9b5ff5526e08",
   "metadata": {},
   "outputs": [
    {
     "data": {
      "text/plain": [
       "Q1\n",
       "3    343\n",
       "4    174\n",
       "2    163\n",
       "5    162\n",
       "1    158\n",
       "Name: count, dtype: int64"
      ]
     },
     "execution_count": 177,
     "metadata": {},
     "output_type": "execute_result"
    }
   ],
   "source": [
    "df['Q1'].value_counts()"
   ]
  },
  {
   "cell_type": "code",
   "execution_count": 178,
   "id": "0cf7db38-cfd1-4ec7-80b3-7f173249a61a",
   "metadata": {},
   "outputs": [
    {
     "data": {
      "text/plain": [
       "Q2\n",
       "3    332\n",
       "1    174\n",
       "2    171\n",
       "4    167\n",
       "5    156\n",
       "Name: count, dtype: int64"
      ]
     },
     "execution_count": 178,
     "metadata": {},
     "output_type": "execute_result"
    }
   ],
   "source": [
    "df['Q2'].value_counts()"
   ]
  },
  {
   "cell_type": "code",
   "execution_count": 179,
   "id": "c1f8afc3-5cba-441b-901f-bc6566c8dc1c",
   "metadata": {},
   "outputs": [
    {
     "data": {
      "text/plain": [
       "mbti_type\n",
       "ISFP    100\n",
       "ESFJ    100\n",
       "ENFP    100\n",
       "ENTP    100\n",
       "ESTJ    100\n",
       "INTP    100\n",
       "ESTP    100\n",
       "INFP    100\n",
       "ISFJ    100\n",
       "INFJ    100\n",
       "Name: count, dtype: int64"
      ]
     },
     "execution_count": 179,
     "metadata": {},
     "output_type": "execute_result"
    }
   ],
   "source": [
    "df['mbti_type'].value_counts()"
   ]
  },
  {
   "cell_type": "code",
   "execution_count": 180,
   "id": "1129c539-a474-4e29-9458-9410bbee9dfd",
   "metadata": {},
   "outputs": [
    {
     "data": {
      "text/plain": [
       "array(['ISFP', 'ESFJ', 'ENFP', 'ENTP', 'ESTJ', 'INTP', 'ESTP', 'INFP',\n",
       "       'ISFJ', 'INFJ'], dtype=object)"
      ]
     },
     "execution_count": 180,
     "metadata": {},
     "output_type": "execute_result"
    }
   ],
   "source": [
    "df['mbti_type'].unique()"
   ]
  },
  {
   "cell_type": "code",
   "execution_count": 181,
   "id": "3bda578c-626f-4a35-a224-ddb1113b87f3",
   "metadata": {},
   "outputs": [
    {
     "data": {
      "text/plain": [
       "Q1           0\n",
       "Q2           0\n",
       "Q3           0\n",
       "Q4           0\n",
       "Q5           0\n",
       "Q6           0\n",
       "Q7           0\n",
       "Q8           0\n",
       "Q9           0\n",
       "Q10          0\n",
       "mbti_type    0\n",
       "dtype: int64"
      ]
     },
     "execution_count": 181,
     "metadata": {},
     "output_type": "execute_result"
    }
   ],
   "source": [
    "df.isnull().sum()"
   ]
  },
  {
   "cell_type": "code",
   "execution_count": 182,
   "id": "e6af3c65-2e6d-4425-b7d9-df9dad5f7a35",
   "metadata": {},
   "outputs": [
    {
     "data": {
      "text/plain": [
       "0      False\n",
       "1      False\n",
       "2      False\n",
       "3      False\n",
       "4      False\n",
       "       ...  \n",
       "995    False\n",
       "996    False\n",
       "997    False\n",
       "998    False\n",
       "999    False\n",
       "Length: 1000, dtype: bool"
      ]
     },
     "execution_count": 182,
     "metadata": {},
     "output_type": "execute_result"
    }
   ],
   "source": [
    "df.duplicated()"
   ]
  },
  {
   "cell_type": "code",
   "execution_count": 202,
   "id": "8759fc13-90a5-4f52-8ff1-9d338d2943cf",
   "metadata": {},
   "outputs": [
    {
     "data": {
      "text/plain": [
       "['Q1', 'Q2', 'Q3', 'Q4', 'Q5', 'Q6', 'Q7', 'Q8', 'Q9', 'Q10']"
      ]
     },
     "execution_count": 202,
     "metadata": {},
     "output_type": "execute_result"
    }
   ],
   "source": [
    "num_feature = [cols for cols in df.columns if df[cols].dtype != 'O']\n",
    "num_feature"
   ]
  },
  {
   "cell_type": "code",
   "execution_count": 201,
   "id": "c2f0234e-cdc8-4966-81c6-38044919c146",
   "metadata": {},
   "outputs": [
    {
     "data": {
      "text/plain": [
       "['mbti_type']"
      ]
     },
     "execution_count": 201,
     "metadata": {},
     "output_type": "execute_result"
    }
   ],
   "source": [
    "cat_feature = [cols for cols in df.columns if df[cols].dtype == 'O']\n",
    "cat_feature"
   ]
  },
  {
   "cell_type": "code",
   "execution_count": 183,
   "id": "e5b25e5f-401c-4e4e-b24c-f37c74f2ff55",
   "metadata": {},
   "outputs": [],
   "source": [
    "x = df.iloc[:,:-1]\n",
    "y = df.iloc[:,-1]"
   ]
  },
  {
   "cell_type": "code",
   "execution_count": 184,
   "id": "669ae6b9-2ba2-49da-9a04-9032d71e81dc",
   "metadata": {},
   "outputs": [
    {
     "data": {
      "text/html": [
       "<div>\n",
       "<style scoped>\n",
       "    .dataframe tbody tr th:only-of-type {\n",
       "        vertical-align: middle;\n",
       "    }\n",
       "\n",
       "    .dataframe tbody tr th {\n",
       "        vertical-align: top;\n",
       "    }\n",
       "\n",
       "    .dataframe thead th {\n",
       "        text-align: right;\n",
       "    }\n",
       "</style>\n",
       "<table border=\"1\" class=\"dataframe\">\n",
       "  <thead>\n",
       "    <tr style=\"text-align: right;\">\n",
       "      <th></th>\n",
       "      <th>Q1</th>\n",
       "      <th>Q2</th>\n",
       "      <th>Q3</th>\n",
       "      <th>Q4</th>\n",
       "      <th>Q5</th>\n",
       "      <th>Q6</th>\n",
       "      <th>Q7</th>\n",
       "      <th>Q8</th>\n",
       "      <th>Q9</th>\n",
       "      <th>Q10</th>\n",
       "    </tr>\n",
       "  </thead>\n",
       "  <tbody>\n",
       "    <tr>\n",
       "      <th>0</th>\n",
       "      <td>3</td>\n",
       "      <td>1</td>\n",
       "      <td>3</td>\n",
       "      <td>3</td>\n",
       "      <td>3</td>\n",
       "      <td>3</td>\n",
       "      <td>3</td>\n",
       "      <td>2</td>\n",
       "      <td>4</td>\n",
       "      <td>4</td>\n",
       "    </tr>\n",
       "    <tr>\n",
       "      <th>1</th>\n",
       "      <td>3</td>\n",
       "      <td>3</td>\n",
       "      <td>1</td>\n",
       "      <td>3</td>\n",
       "      <td>4</td>\n",
       "      <td>3</td>\n",
       "      <td>2</td>\n",
       "      <td>2</td>\n",
       "      <td>3</td>\n",
       "      <td>3</td>\n",
       "    </tr>\n",
       "    <tr>\n",
       "      <th>2</th>\n",
       "      <td>1</td>\n",
       "      <td>1</td>\n",
       "      <td>2</td>\n",
       "      <td>2</td>\n",
       "      <td>3</td>\n",
       "      <td>3</td>\n",
       "      <td>1</td>\n",
       "      <td>3</td>\n",
       "      <td>4</td>\n",
       "      <td>4</td>\n",
       "    </tr>\n",
       "    <tr>\n",
       "      <th>3</th>\n",
       "      <td>2</td>\n",
       "      <td>3</td>\n",
       "      <td>2</td>\n",
       "      <td>2</td>\n",
       "      <td>5</td>\n",
       "      <td>4</td>\n",
       "      <td>3</td>\n",
       "      <td>3</td>\n",
       "      <td>2</td>\n",
       "      <td>4</td>\n",
       "    </tr>\n",
       "    <tr>\n",
       "      <th>4</th>\n",
       "      <td>1</td>\n",
       "      <td>3</td>\n",
       "      <td>3</td>\n",
       "      <td>1</td>\n",
       "      <td>3</td>\n",
       "      <td>5</td>\n",
       "      <td>2</td>\n",
       "      <td>1</td>\n",
       "      <td>3</td>\n",
       "      <td>3</td>\n",
       "    </tr>\n",
       "    <tr>\n",
       "      <th>...</th>\n",
       "      <td>...</td>\n",
       "      <td>...</td>\n",
       "      <td>...</td>\n",
       "      <td>...</td>\n",
       "      <td>...</td>\n",
       "      <td>...</td>\n",
       "      <td>...</td>\n",
       "      <td>...</td>\n",
       "      <td>...</td>\n",
       "      <td>...</td>\n",
       "    </tr>\n",
       "    <tr>\n",
       "      <th>995</th>\n",
       "      <td>3</td>\n",
       "      <td>2</td>\n",
       "      <td>5</td>\n",
       "      <td>4</td>\n",
       "      <td>3</td>\n",
       "      <td>4</td>\n",
       "      <td>4</td>\n",
       "      <td>5</td>\n",
       "      <td>3</td>\n",
       "      <td>2</td>\n",
       "    </tr>\n",
       "    <tr>\n",
       "      <th>996</th>\n",
       "      <td>2</td>\n",
       "      <td>2</td>\n",
       "      <td>4</td>\n",
       "      <td>5</td>\n",
       "      <td>4</td>\n",
       "      <td>4</td>\n",
       "      <td>5</td>\n",
       "      <td>5</td>\n",
       "      <td>4</td>\n",
       "      <td>4</td>\n",
       "    </tr>\n",
       "    <tr>\n",
       "      <th>997</th>\n",
       "      <td>1</td>\n",
       "      <td>1</td>\n",
       "      <td>4</td>\n",
       "      <td>3</td>\n",
       "      <td>4</td>\n",
       "      <td>3</td>\n",
       "      <td>5</td>\n",
       "      <td>5</td>\n",
       "      <td>2</td>\n",
       "      <td>2</td>\n",
       "    </tr>\n",
       "    <tr>\n",
       "      <th>998</th>\n",
       "      <td>2</td>\n",
       "      <td>2</td>\n",
       "      <td>4</td>\n",
       "      <td>5</td>\n",
       "      <td>5</td>\n",
       "      <td>5</td>\n",
       "      <td>5</td>\n",
       "      <td>4</td>\n",
       "      <td>4</td>\n",
       "      <td>4</td>\n",
       "    </tr>\n",
       "    <tr>\n",
       "      <th>999</th>\n",
       "      <td>3</td>\n",
       "      <td>3</td>\n",
       "      <td>3</td>\n",
       "      <td>4</td>\n",
       "      <td>4</td>\n",
       "      <td>5</td>\n",
       "      <td>3</td>\n",
       "      <td>4</td>\n",
       "      <td>3</td>\n",
       "      <td>4</td>\n",
       "    </tr>\n",
       "  </tbody>\n",
       "</table>\n",
       "<p>1000 rows × 10 columns</p>\n",
       "</div>"
      ],
      "text/plain": [
       "     Q1  Q2  Q3  Q4  Q5  Q6  Q7  Q8  Q9  Q10\n",
       "0     3   1   3   3   3   3   3   2   4    4\n",
       "1     3   3   1   3   4   3   2   2   3    3\n",
       "2     1   1   2   2   3   3   1   3   4    4\n",
       "3     2   3   2   2   5   4   3   3   2    4\n",
       "4     1   3   3   1   3   5   2   1   3    3\n",
       "..   ..  ..  ..  ..  ..  ..  ..  ..  ..  ...\n",
       "995   3   2   5   4   3   4   4   5   3    2\n",
       "996   2   2   4   5   4   4   5   5   4    4\n",
       "997   1   1   4   3   4   3   5   5   2    2\n",
       "998   2   2   4   5   5   5   5   4   4    4\n",
       "999   3   3   3   4   4   5   3   4   3    4\n",
       "\n",
       "[1000 rows x 10 columns]"
      ]
     },
     "execution_count": 184,
     "metadata": {},
     "output_type": "execute_result"
    }
   ],
   "source": [
    "x"
   ]
  },
  {
   "cell_type": "code",
   "execution_count": 185,
   "id": "6af5ccf9-2d0b-4692-824c-4acc00520763",
   "metadata": {},
   "outputs": [
    {
     "data": {
      "text/plain": [
       "mbti_type\n",
       "ISFP    100\n",
       "ESFJ    100\n",
       "ENFP    100\n",
       "ENTP    100\n",
       "ESTJ    100\n",
       "INTP    100\n",
       "ESTP    100\n",
       "INFP    100\n",
       "ISFJ    100\n",
       "INFJ    100\n",
       "Name: count, dtype: int64"
      ]
     },
     "execution_count": 185,
     "metadata": {},
     "output_type": "execute_result"
    }
   ],
   "source": [
    "y.value_counts()"
   ]
  },
  {
   "cell_type": "code",
   "execution_count": 186,
   "id": "286bea39-525c-4fed-a16d-7b33ad4ce682",
   "metadata": {},
   "outputs": [],
   "source": [
    "from sklearn.model_selection import train_test_split\n",
    "x_train,x_test , y_train,y_test = train_test_split(x,y,test_size=0.33,random_state=42)"
   ]
  },
  {
   "cell_type": "code",
   "execution_count": 187,
   "id": "3803f43a-866e-4805-acba-f027fc952888",
   "metadata": {},
   "outputs": [
    {
     "data": {
      "text/plain": [
       "((670, 10), (330, 10), (670,))"
      ]
     },
     "execution_count": 187,
     "metadata": {},
     "output_type": "execute_result"
    }
   ],
   "source": [
    "x_train.shape , x_test.shape , y_train.shape"
   ]
  },
  {
   "cell_type": "code",
   "execution_count": 188,
   "id": "4bb4fd3e-1392-416a-a1e6-656a5149642e",
   "metadata": {},
   "outputs": [
    {
     "data": {
      "text/plain": [
       "521    INTP\n",
       "737    INFP\n",
       "740    INFP\n",
       "660    ESTP\n",
       "411    ESTJ\n",
       "       ... \n",
       "506    INTP\n",
       "342    ENTP\n",
       "485    ESTJ\n",
       "711    INFP\n",
       "133    ESFJ\n",
       "Name: mbti_type, Length: 330, dtype: object"
      ]
     },
     "execution_count": 188,
     "metadata": {},
     "output_type": "execute_result"
    }
   ],
   "source": [
    "y_test"
   ]
  },
  {
   "cell_type": "code",
   "execution_count": 189,
   "id": "a64fc8aa-4b69-4e80-9224-d529c83f733c",
   "metadata": {},
   "outputs": [],
   "source": [
    "from sklearn.preprocessing import StandardScaler\n",
    "\n",
    "scaler = StandardScaler()\n",
    "x_train = scaler.fit_transform(x_train)\n",
    "x_test = scaler.transform(x_test)\n",
    "\n"
   ]
  },
  {
   "cell_type": "code",
   "execution_count": 190,
   "id": "d3cbd72b-8664-4e2b-b6e1-53395050a878",
   "metadata": {},
   "outputs": [],
   "source": [
    "from sklearn.preprocessing import LabelEncoder\n",
    "le = LabelEncoder()\n",
    "y_train = le.fit_transform(y_train)\n",
    "y_test = le.transform(y_test)"
   ]
  },
  {
   "cell_type": "code",
   "execution_count": 191,
   "id": "8dbf2c48-bff9-4d71-9df2-db8492cbb8f4",
   "metadata": {},
   "outputs": [
    {
     "data": {
      "text/plain": [
       "array([7, 6, 6, 4, 3, 4, 4, 7, 8, 2, 8, 9, 4, 5, 5, 8, 0, 8, 6, 1, 7, 2,\n",
       "       1, 7, 0, 0, 2, 5, 5, 5, 1, 2, 4, 3, 1, 2, 4, 7, 5, 9, 1, 9, 1, 5,\n",
       "       0, 0, 5, 4, 3, 8, 7, 8, 0, 7, 9, 9, 4, 9, 0, 8, 0, 9, 7, 0, 4, 4,\n",
       "       4, 8, 9, 7, 2, 3, 7, 6, 0, 0, 4, 9, 7, 1, 4, 9, 0, 9, 1, 7, 5, 6,\n",
       "       6, 1, 1, 3, 7, 0, 6, 3, 6, 9, 9, 8, 6, 1, 5, 0, 4, 4, 7, 5, 2, 5,\n",
       "       7, 8, 5, 8, 9, 3, 2, 5, 7, 0, 8, 3, 6, 0, 0, 7, 7, 3, 8, 8, 7, 8,\n",
       "       0, 5, 7, 9, 2, 0, 9, 9, 9, 0, 6, 0, 8, 5, 8, 0, 8, 1, 4, 2, 5, 3,\n",
       "       5, 3, 1, 4, 9, 8, 7, 6, 4, 4, 8, 4, 0, 4, 1, 1, 1, 3, 2, 5, 3, 1,\n",
       "       0, 0, 8, 4, 3, 4, 1, 7, 8, 2, 1, 1, 5, 6, 5, 8, 4, 2, 0, 3, 1, 0,\n",
       "       4, 9, 9, 7, 4, 7, 8, 7, 2, 5, 3, 8, 9, 2, 5, 8, 4, 1, 4, 0, 5, 6,\n",
       "       1, 6, 5, 9, 8, 9, 7, 1, 5, 7, 1, 5, 3, 7, 9, 9, 0, 5, 2, 1, 9, 0,\n",
       "       7, 6, 1, 2, 3, 9, 9, 0, 9, 5, 6, 8, 1, 1, 7, 5, 5, 9, 6, 3, 9, 0,\n",
       "       1, 8, 6, 1, 4, 1, 3, 2, 5, 0, 7, 9, 2, 4, 9, 6, 7, 6, 0, 0, 0, 6,\n",
       "       1, 3, 0, 5, 5, 6, 7, 3, 1, 3, 5, 3, 9, 2, 7, 3, 3, 3, 6, 5, 1, 7,\n",
       "       5, 7, 7, 7, 7, 6, 3, 3, 0, 1, 6, 0, 9, 2, 1, 4, 6, 7, 1, 3, 6, 2])"
      ]
     },
     "execution_count": 191,
     "metadata": {},
     "output_type": "execute_result"
    }
   ],
   "source": [
    "y_test "
   ]
  },
  {
   "cell_type": "code",
   "execution_count": 192,
   "id": "e9f1192c-3b45-40d1-a3d1-cb998b750bdc",
   "metadata": {},
   "outputs": [],
   "source": [
    "from sklearn.ensemble import RandomForestClassifier\n",
    "from sklearn.ensemble import AdaBoostClassifier\n",
    "from sklearn.ensemble import GradientBoostingClassifier\n",
    "from sklearn.tree import DecisionTreeClassifier\n",
    "from sklearn.linear_model import LogisticRegression\n",
    "from xgboost import XGBClassifier  \n",
    "from sklearn.metrics import accuracy_score, classification_report,ConfusionMatrixDisplay, \\\n",
    "                            precision_score, recall_score, f1_score, roc_auc_score,roc_curve "
   ]
  },
  {
   "cell_type": "code",
   "execution_count": 193,
   "id": "aaa1e72a-866a-4807-9cca-af1a9f76bd9e",
   "metadata": {},
   "outputs": [
    {
     "name": "stdout",
     "output_type": "stream",
     "text": [
      "\n",
      "🧠 Model: Random Forest\n",
      "Training Performance:\n",
      "  Accuracy  : 0.8910\n",
      "  F1 Score  : 0.8929\n",
      "  Precision : 0.9049\n",
      "  Recall    : 0.8910\n",
      "Test Performance:\n",
      "  Accuracy  : 0.8667\n",
      "  F1 Score  : 0.8690\n",
      "  Precision : 0.8969\n",
      "  Recall    : 0.8667\n",
      "\n",
      "Classification Report:\n",
      "              precision    recall  f1-score   support\n",
      "\n",
      "           0       0.97      0.85      0.90        39\n",
      "           1       0.87      0.89      0.88        38\n",
      "           2       0.81      1.00      0.90        22\n",
      "           3       1.00      0.63      0.78        30\n",
      "           4       0.78      0.94      0.85        31\n",
      "           5       1.00      0.81      0.90        37\n",
      "           6       0.60      1.00      0.75        28\n",
      "           7       1.00      0.80      0.89        40\n",
      "           8       0.92      0.83      0.87        29\n",
      "           9       0.90      0.97      0.93        36\n",
      "\n",
      "    accuracy                           0.87       330\n",
      "   macro avg       0.89      0.87      0.87       330\n",
      "weighted avg       0.90      0.87      0.87       330\n",
      "\n",
      "\n",
      "🧠 Model: Logistic Regression\n",
      "Training Performance:\n",
      "  Accuracy  : 0.9254\n",
      "  F1 Score  : 0.9255\n",
      "  Precision : 0.9263\n",
      "  Recall    : 0.9254\n",
      "Test Performance:\n",
      "  Accuracy  : 0.8606\n",
      "  F1 Score  : 0.8610\n",
      "  Precision : 0.8652\n",
      "  Recall    : 0.8606\n",
      "\n",
      "Classification Report:\n",
      "              precision    recall  f1-score   support\n",
      "\n",
      "           0       0.97      0.85      0.90        39\n",
      "           1       0.85      0.87      0.86        38\n",
      "           2       0.83      0.86      0.84        22\n",
      "           3       0.89      0.80      0.84        30\n",
      "           4       0.76      0.84      0.80        31\n",
      "           5       0.87      0.89      0.88        37\n",
      "           6       0.76      0.89      0.82        28\n",
      "           7       0.90      0.88      0.89        40\n",
      "           8       0.88      0.76      0.81        29\n",
      "           9       0.89      0.94      0.92        36\n",
      "\n",
      "    accuracy                           0.86       330\n",
      "   macro avg       0.86      0.86      0.86       330\n",
      "weighted avg       0.87      0.86      0.86       330\n",
      "\n",
      "\n",
      "🧠 Model: Decision Tree\n",
      "Training Performance:\n",
      "  Accuracy  : 0.7657\n",
      "  F1 Score  : 0.7708\n",
      "  Precision : 0.8210\n",
      "  Recall    : 0.7657\n",
      "Test Performance:\n",
      "  Accuracy  : 0.6818\n",
      "  F1 Score  : 0.6960\n",
      "  Precision : 0.7714\n",
      "  Recall    : 0.6818\n",
      "\n",
      "Classification Report:\n",
      "              precision    recall  f1-score   support\n",
      "\n",
      "           0       0.73      0.62      0.67        39\n",
      "           1       0.73      0.71      0.72        38\n",
      "           2       0.56      0.82      0.67        22\n",
      "           3       1.00      0.60      0.75        30\n",
      "           4       0.56      0.58      0.57        31\n",
      "           5       1.00      0.57      0.72        37\n",
      "           6       0.38      1.00      0.55        28\n",
      "           7       0.86      0.60      0.71        40\n",
      "           8       1.00      0.69      0.82        29\n",
      "           9       0.77      0.75      0.76        36\n",
      "\n",
      "    accuracy                           0.68       330\n",
      "   macro avg       0.76      0.69      0.69       330\n",
      "weighted avg       0.77      0.68      0.70       330\n",
      "\n",
      "\n",
      "🧠 Model: Gradient Boost\n",
      "Training Performance:\n",
      "  Accuracy  : 1.0000\n",
      "  F1 Score  : 1.0000\n",
      "  Precision : 1.0000\n",
      "  Recall    : 1.0000\n",
      "Test Performance:\n",
      "  Accuracy  : 0.8545\n",
      "  F1 Score  : 0.8556\n",
      "  Precision : 0.8640\n",
      "  Recall    : 0.8545\n",
      "\n",
      "Classification Report:\n",
      "              precision    recall  f1-score   support\n",
      "\n",
      "           0       0.97      0.79      0.87        39\n",
      "           1       0.86      0.84      0.85        38\n",
      "           2       0.75      0.95      0.84        22\n",
      "           3       0.82      0.77      0.79        30\n",
      "           4       0.71      0.77      0.74        31\n",
      "           5       0.94      0.92      0.93        37\n",
      "           6       0.75      0.96      0.84        28\n",
      "           7       0.95      0.88      0.91        40\n",
      "           8       0.88      0.79      0.84        29\n",
      "           9       0.89      0.89      0.89        36\n",
      "\n",
      "    accuracy                           0.85       330\n",
      "   macro avg       0.85      0.86      0.85       330\n",
      "weighted avg       0.86      0.85      0.86       330\n",
      "\n",
      "\n",
      "🧠 Model: AdaBoostClassifier\n",
      "Training Performance:\n",
      "  Accuracy  : 0.3075\n",
      "  F1 Score  : 0.2119\n",
      "  Precision : 0.1896\n",
      "  Recall    : 0.3075\n",
      "Test Performance:\n",
      "  Accuracy  : 0.2515\n",
      "  F1 Score  : 0.1769\n",
      "  Precision : 0.1666\n",
      "  Recall    : 0.2515\n",
      "\n",
      "Classification Report:\n",
      "              precision    recall  f1-score   support\n",
      "\n",
      "           0       0.00      0.00      0.00        39\n",
      "           1       0.00      0.00      0.00        38\n",
      "           2       0.00      0.00      0.00        22\n",
      "           3       0.20      0.43      0.27        30\n",
      "           4       0.24      0.39      0.29        31\n",
      "           5       0.78      0.68      0.72        37\n",
      "           6       0.17      1.00      0.29        28\n",
      "           7       0.00      0.00      0.00        40\n",
      "           8       0.28      0.17      0.21        29\n",
      "           9       0.00      0.00      0.00        36\n",
      "\n",
      "    accuracy                           0.25       330\n",
      "   macro avg       0.17      0.27      0.18       330\n",
      "weighted avg       0.17      0.25      0.18       330\n",
      "\n",
      "\n",
      "🧠 Model: XGBClassifier\n",
      "Training Performance:\n",
      "  Accuracy  : 1.0000\n",
      "  F1 Score  : 1.0000\n",
      "  Precision : 1.0000\n",
      "  Recall    : 1.0000\n",
      "Test Performance:\n",
      "  Accuracy  : 0.8576\n",
      "  F1 Score  : 0.8580\n",
      "  Precision : 0.8627\n",
      "  Recall    : 0.8576\n",
      "\n",
      "Classification Report:\n",
      "              precision    recall  f1-score   support\n",
      "\n",
      "           0       0.97      0.79      0.87        39\n",
      "           1       0.85      0.87      0.86        38\n",
      "           2       0.80      0.91      0.85        22\n",
      "           3       0.83      0.80      0.81        30\n",
      "           4       0.77      0.77      0.77        31\n",
      "           5       0.92      0.95      0.93        37\n",
      "           6       0.74      0.89      0.81        28\n",
      "           7       0.90      0.90      0.90        40\n",
      "           8       0.88      0.79      0.84        29\n",
      "           9       0.89      0.89      0.89        36\n",
      "\n",
      "    accuracy                           0.86       330\n",
      "   macro avg       0.85      0.86      0.85       330\n",
      "weighted avg       0.86      0.86      0.86       330\n",
      "\n"
     ]
    }
   ],
   "source": [
    "from sklearn.metrics import (\n",
    "    accuracy_score, f1_score, precision_score, recall_score, \n",
    "    roc_auc_score, classification_report\n",
    ")\n",
    "from xgboost import XGBClassifier\n",
    "from sklearn.ensemble import (\n",
    "    RandomForestClassifier, GradientBoostingClassifier, AdaBoostClassifier\n",
    ")\n",
    "from sklearn.linear_model import LogisticRegression\n",
    "from sklearn.tree import DecisionTreeClassifier\n",
    "\n",
    "models = {\n",
    "    \"Random Forest\": RandomForestClassifier( max_depth=5,\n",
    "    min_samples_split=10,\n",
    "    min_samples_leaf=5),\n",
    "    \"Logistic Regression\": LogisticRegression(max_iter=500),\n",
    "    \"Decision Tree\": DecisionTreeClassifier( max_depth=5,\n",
    "    min_samples_split=10,\n",
    "    min_samples_leaf=5),\n",
    "    \"Gradient Boost\": GradientBoostingClassifier(),\n",
    "    \"AdaBoostClassifier\": AdaBoostClassifier(),\n",
    "    \"XGBClassifier\": XGBClassifier(use_label_encoder=False, eval_metric='mlogloss')\n",
    "}\n",
    "\n",
    "for name, model in models.items():\n",
    "    model.fit(x_train, y_train)\n",
    "\n",
    "    y_train_pred = model.predict(x_train)\n",
    "    y_test_pred = model.predict(x_test)\n",
    "\n",
    "    # Training Metrics\n",
    "    train_acc = accuracy_score(y_train, y_train_pred)\n",
    "    train_f1 = f1_score(y_train, y_train_pred, average='weighted')\n",
    "    train_precision = precision_score(y_train, y_train_pred, average='weighted')\n",
    "    train_recall = recall_score(y_train, y_train_pred, average='weighted')\n",
    "\n",
    "    # Test Metrics\n",
    "    test_acc = accuracy_score(y_test, y_test_pred)\n",
    "    test_f1 = f1_score(y_test, y_test_pred, average='weighted')\n",
    "    test_precision = precision_score(y_test, y_test_pred, average='weighted')\n",
    "    test_recall = recall_score(y_test, y_test_pred, average='weighted')\n",
    "\n",
    "    print(f\"\\n🧠 Model: {name}\")\n",
    "    print(\"Training Performance:\")\n",
    "    print(f\"  Accuracy  : {train_acc:.4f}\")\n",
    "    print(f\"  F1 Score  : {train_f1:.4f}\")\n",
    "    print(f\"  Precision : {train_precision:.4f}\")\n",
    "    print(f\"  Recall    : {train_recall:.4f}\")\n",
    "\n",
    "    print(\"Test Performance:\")\n",
    "    print(f\"  Accuracy  : {test_acc:.4f}\")\n",
    "    print(f\"  F1 Score  : {test_f1:.4f}\")\n",
    "    print(f\"  Precision : {test_precision:.4f}\")\n",
    "    print(f\"  Recall    : {test_recall:.4f}\")\n",
    "    \n",
    "    print(\"\\nClassification Report:\")\n",
    "    print(classification_report(y_test, y_test_pred))\n"
   ]
  },
  {
   "cell_type": "code",
   "execution_count": 194,
   "id": "dff653a2-70e3-4c82-b079-4c9061ebad53",
   "metadata": {},
   "outputs": [
    {
     "data": {
      "image/png": "[encoded data removed]",
      "text/plain": [
       "<Figure size 1000x800 with 2 Axes>"
      ]
     },
     "metadata": {},
     "output_type": "display_data"
    }
   ],
   "source": [
    "plt.figure(figsize=(10, 8))\n",
    "corr = df[[f\"Q{i+1}\" for i in range(10)]].corr()\n",
    "sns.heatmap(corr, annot=True, cmap='coolwarm', fmt=\".2f\")\n",
    "plt.title(\"Correlation Heatmap of Quiz Questions\")\n",
    "plt.show()\n"
   ]
  },
  {
   "cell_type": "code",
   "execution_count": 195,
   "id": "e6480037-cbf5-44ee-ba67-6c5d4750f762",
   "metadata": {},
   "outputs": [
    {
     "data": {
      "image/png": "[encoded data removed]",
      "text/plain": [
       "<Figure size 1200x600 with 1 Axes>"
      ]
     },
     "metadata": {},
     "output_type": "display_data"
    }
   ],
   "source": [
    "plt.figure(figsize=(12, 6))\n",
    "sns.boxplot(data=df, x='mbti_type', y='Q1')\n",
    "plt.title(\"Distribution of Q1 Scores Across MBTI Types\")\n",
    "plt.xlabel(\"MBTI Type\")\n",
    "plt.ylabel(\"Q1 Score\")\n",
    "plt.xticks(rotation=45)\n",
    "plt.show()\n"
   ]
  },
  {
   "cell_type": "code",
   "execution_count": 196,
   "id": "864f25fd-c4fd-4bca-aeb3-dc1b3542b28e",
   "metadata": {},
   "outputs": [
    {
     "data": {
      "text/html": [
       "<div>\n",
       "<style scoped>\n",
       "    .dataframe tbody tr th:only-of-type {\n",
       "        vertical-align: middle;\n",
       "    }\n",
       "\n",
       "    .dataframe tbody tr th {\n",
       "        vertical-align: top;\n",
       "    }\n",
       "\n",
       "    .dataframe thead th {\n",
       "        text-align: right;\n",
       "    }\n",
       "</style>\n",
       "<table border=\"1\" class=\"dataframe\">\n",
       "  <thead>\n",
       "    <tr style=\"text-align: right;\">\n",
       "      <th></th>\n",
       "      <th>Q1</th>\n",
       "      <th>Q2</th>\n",
       "      <th>Q3</th>\n",
       "      <th>Q4</th>\n",
       "      <th>Q5</th>\n",
       "      <th>Q6</th>\n",
       "      <th>Q7</th>\n",
       "      <th>Q8</th>\n",
       "      <th>Q9</th>\n",
       "      <th>Q10</th>\n",
       "    </tr>\n",
       "  </thead>\n",
       "  <tbody>\n",
       "    <tr>\n",
       "      <th>count</th>\n",
       "      <td>1000.000000</td>\n",
       "      <td>1000.000000</td>\n",
       "      <td>1000.000000</td>\n",
       "      <td>1000.000000</td>\n",
       "      <td>1000.000000</td>\n",
       "      <td>1000.000000</td>\n",
       "      <td>1000.000000</td>\n",
       "      <td>1000.000000</td>\n",
       "      <td>1000.000000</td>\n",
       "      <td>1000.000000</td>\n",
       "    </tr>\n",
       "    <tr>\n",
       "      <th>mean</th>\n",
       "      <td>3.019000</td>\n",
       "      <td>2.960000</td>\n",
       "      <td>3.013000</td>\n",
       "      <td>2.987000</td>\n",
       "      <td>3.137000</td>\n",
       "      <td>3.218000</td>\n",
       "      <td>2.795000</td>\n",
       "      <td>2.785000</td>\n",
       "      <td>3.000000</td>\n",
       "      <td>3.031000</td>\n",
       "    </tr>\n",
       "    <tr>\n",
       "      <th>std</th>\n",
       "      <td>1.272107</td>\n",
       "      <td>1.287656</td>\n",
       "      <td>1.243534</td>\n",
       "      <td>1.300201</td>\n",
       "      <td>1.236835</td>\n",
       "      <td>1.275187</td>\n",
       "      <td>1.299486</td>\n",
       "      <td>1.287024</td>\n",
       "      <td>0.814041</td>\n",
       "      <td>0.822627</td>\n",
       "    </tr>\n",
       "    <tr>\n",
       "      <th>min</th>\n",
       "      <td>1.000000</td>\n",
       "      <td>1.000000</td>\n",
       "      <td>1.000000</td>\n",
       "      <td>1.000000</td>\n",
       "      <td>1.000000</td>\n",
       "      <td>1.000000</td>\n",
       "      <td>1.000000</td>\n",
       "      <td>1.000000</td>\n",
       "      <td>2.000000</td>\n",
       "      <td>2.000000</td>\n",
       "    </tr>\n",
       "    <tr>\n",
       "      <th>25%</th>\n",
       "      <td>2.000000</td>\n",
       "      <td>2.000000</td>\n",
       "      <td>2.000000</td>\n",
       "      <td>2.000000</td>\n",
       "      <td>2.000000</td>\n",
       "      <td>2.000000</td>\n",
       "      <td>2.000000</td>\n",
       "      <td>2.000000</td>\n",
       "      <td>2.000000</td>\n",
       "      <td>2.000000</td>\n",
       "    </tr>\n",
       "    <tr>\n",
       "      <th>50%</th>\n",
       "      <td>3.000000</td>\n",
       "      <td>3.000000</td>\n",
       "      <td>3.000000</td>\n",
       "      <td>3.000000</td>\n",
       "      <td>3.000000</td>\n",
       "      <td>3.000000</td>\n",
       "      <td>3.000000</td>\n",
       "      <td>3.000000</td>\n",
       "      <td>3.000000</td>\n",
       "      <td>3.000000</td>\n",
       "    </tr>\n",
       "    <tr>\n",
       "      <th>75%</th>\n",
       "      <td>4.000000</td>\n",
       "      <td>4.000000</td>\n",
       "      <td>4.000000</td>\n",
       "      <td>4.000000</td>\n",
       "      <td>4.000000</td>\n",
       "      <td>4.000000</td>\n",
       "      <td>4.000000</td>\n",
       "      <td>4.000000</td>\n",
       "      <td>4.000000</td>\n",
       "      <td>4.000000</td>\n",
       "    </tr>\n",
       "    <tr>\n",
       "      <th>max</th>\n",
       "      <td>5.000000</td>\n",
       "      <td>5.000000</td>\n",
       "      <td>5.000000</td>\n",
       "      <td>5.000000</td>\n",
       "      <td>5.000000</td>\n",
       "      <td>5.000000</td>\n",
       "      <td>5.000000</td>\n",
       "      <td>5.000000</td>\n",
       "      <td>4.000000</td>\n",
       "      <td>4.000000</td>\n",
       "    </tr>\n",
       "  </tbody>\n",
       "</table>\n",
       "</div>"
      ],
      "text/plain": [
       "                Q1           Q2           Q3           Q4           Q5  \\\n",
       "count  1000.000000  1000.000000  1000.000000  1000.000000  1000.000000   \n",
       "mean      3.019000     2.960000     3.013000     2.987000     3.137000   \n",
       "std       1.272107     1.287656     1.243534     1.300201     1.236835   \n",
       "min       1.000000     1.000000     1.000000     1.000000     1.000000   \n",
       "25%       2.000000     2.000000     2.000000     2.000000     2.000000   \n",
       "50%       3.000000     3.000000     3.000000     3.000000     3.000000   \n",
       "75%       4.000000     4.000000     4.000000     4.000000     4.000000   \n",
       "max       5.000000     5.000000     5.000000     5.000000     5.000000   \n",
       "\n",
       "                Q6           Q7           Q8           Q9          Q10  \n",
       "count  1000.000000  1000.000000  1000.000000  1000.000000  1000.000000  \n",
       "mean      3.218000     2.795000     2.785000     3.000000     3.031000  \n",
       "std       1.275187     1.299486     1.287024     0.814041     0.822627  \n",
       "min       1.000000     1.000000     1.000000     2.000000     2.000000  \n",
       "25%       2.000000     2.000000     2.000000     2.000000     2.000000  \n",
       "50%       3.000000     3.000000     3.000000     3.000000     3.000000  \n",
       "75%       4.000000     4.000000     4.000000     4.000000     4.000000  \n",
       "max       5.000000     5.000000     5.000000     4.000000     4.000000  "
      ]
     },
     "execution_count": 196,
     "metadata": {},
     "output_type": "execute_result"
    }
   ],
   "source": [
    "df.describe()"
   ]
  },
  {
   "cell_type": "code",
   "execution_count": 200,
   "id": "54a6376d-9045-4efb-86bb-fe0ade5d39a1",
   "metadata": {},
   "outputs": [
    {
     "name": "stdout",
     "output_type": "stream",
     "text": [
      "Predicted MBTI class: INFJ\n"
     ]
    }
   ],
   "source": [
    "input_data = np.array([[2, 3, 5, 1, 1, 5, 4, 4, 3, 2]])\n",
    "y_pred = model.predict(input_data)\n",
    "y_pred = le.inverse_transform(y_pred)\n",
    "print(\"Predicted MBTI class:\", y_pred[0])\n"
   ]
  },
  {
   "cell_type": "code",
   "execution_count": null,
   "id": "69161c58-a34d-4335-9b35-537fd3dcf10b",
   "metadata": {},
   "outputs": [],
   "source": []
  },
  {
   "cell_type": "code",
   "execution_count": null,
   "id": "9036a506-7283-4ed2-8128-52796bb6dc9f",
   "metadata": {},
   "outputs": [],
   "source": []
  },
  {
   "cell_type": "code",
   "execution_count": null,
   "id": "12cd38ef-c307-446f-bac2-68ea2be33df1",
   "metadata": {},
   "outputs": [],
   "source": []
  },
  {
   "cell_type": "code",
   "execution_count": null,
   "id": "509ec496-b747-4936-af6d-04166adea354",
   "metadata": {},
   "outputs": [],
   "source": []
  },
  {
   "cell_type": "code",
   "execution_count": null,
   "id": "e1f7f379-9be2-4abc-8aa7-e43f91888d0f",
   "metadata": {},
   "outputs": [],
   "source": []
  },
  {
   "cell_type": "code",
   "execution_count": null,
   "id": "2b68f03f-e10f-4ba6-bdfa-517f2680ed9e",
   "metadata": {},
   "outputs": [],
   "source": []
  },
  {
   "cell_type": "code",
   "execution_count": null,
   "id": "0e7b7f9e-7d8c-46f2-9f1a-dd9ed23af8f1",
   "metadata": {},
   "outputs": [],
   "source": []
  },
  {
   "cell_type": "code",
   "execution_count": null,
   "id": "a28f2bde-ffc3-4068-b668-98fd8565907e",
   "metadata": {},
   "outputs": [],
   "source": []
  },
  {
   "cell_type": "code",
   "execution_count": null,
   "id": "d6f719a4-0d05-4113-8c4f-4a4061cc70be",
   "metadata": {},
   "outputs": [],
   "source": []
  },
  {
   "cell_type": "code",
   "execution_count": null,
   "id": "c8321452-9156-46dc-80f5-75f6c29cc863",
   "metadata": {},
   "outputs": [],
   "source": []
  },
  {
   "cell_type": "code",
   "execution_count": null,
   "id": "c36c7921-fbfe-48fe-b04c-cdb950db3136",
   "metadata": {},
   "outputs": [],
   "source": []
  },
  {
   "cell_type": "code",
   "execution_count": null,
   "id": "b6c5c6e9-d900-44b0-aee0-bf6f2a9323f6",
   "metadata": {},
   "outputs": [],
   "source": []
  }
 ],
 "metadata": {
  "kernelspec": {
   "display_name": "Python 3 (ipykernel)",
   "language": "python",
   "name": "python3"
  },
  "language_info": {
   "codemirror_mode": {
    "name": "ipython",
    "version": 3
   },
   "file_extension": ".py",
   "mimetype": "text/x-python",
   "name": "python",
   "nbconvert_exporter": "python",
   "pygments_lexer": "ipython3",
   "version": "3.12.7"
  }
 },
 "nbformat": 4,
 "nbformat_minor": 5
}
